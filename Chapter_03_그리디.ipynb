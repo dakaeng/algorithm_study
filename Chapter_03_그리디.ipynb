{
  "nbformat": 4,
  "nbformat_minor": 0,
  "metadata": {
    "colab": {
      "provenance": [],
      "authorship_tag": "ABX9TyNGwMNDlOCzQmZI3BnxeWeD"
    },
    "kernelspec": {
      "name": "python3",
      "display_name": "Python 3"
    },
    "language_info": {
      "name": "python"
    }
  },
  "cells": [
    {
      "cell_type": "markdown",
      "source": [
        "# 1. 당장 좋은 것만 선택하는 그리디"
      ],
      "metadata": {
        "id": "-Hd-WDB1YHIU"
      }
    },
    {
      "cell_type": "markdown",
      "source": [
        "현재 상황에서 지금 당장 좋은 것만 고르는 방법 (매 순간 가장 좋아 보이는 것을 선택하며, 현재의 선택이 나중에 미칠 영향에 대해서는 고려하지 않음)\n",
        "\n",
        "특정한 문제를 만났을 때 단순히 현재 상황에서 가장 좋아 보이는 것만을 선택해도 문제를 풀 수 있는지를 파악할 수 있어야 함  \n",
        "= 문제에서 '가장 큰 순서대로', '가장 작은 순서대로'와 같은 기준을 알게 모르게 제시해줌"
      ],
      "metadata": {
        "id": "uRzRW4SbYp0B"
      }
    },
    {
      "cell_type": "markdown",
      "source": [
        "### 예제 3-1. 거스름돈"
      ],
      "metadata": {
        "id": "_u8LGYtub2UO"
      }
    },
    {
      "cell_type": "markdown",
      "source": [
        "'가장 큰 화폐 단위부터' 돈을 거슬러 주는 것"
      ],
      "metadata": {
        "id": "uRoi3vL0b89u"
      }
    },
    {
      "cell_type": "code",
      "execution_count": 1,
      "metadata": {
        "id": "0ksatgT5X3-P",
        "colab": {
          "base_uri": "https://localhost:8080/"
        },
        "outputId": "679f1ea9-118f-4c04-b1be-fef7a4ba9493"
      },
      "outputs": [
        {
          "output_type": "stream",
          "name": "stdout",
          "text": [
            "6\n"
          ]
        }
      ],
      "source": [
        "n = 1260\n",
        "coins = [500, 100, 50, 10]\n",
        "count = 0\n",
        "\n",
        "for c in coins :\n",
        "  count += n // c\n",
        "  n = n % c\n",
        "print(count)"
      ]
    },
    {
      "cell_type": "markdown",
      "source": [
        "화폐의 종류가 $K$개라고 할 때, 시간 복잡도는 $O(K)$"
      ],
      "metadata": {
        "id": "Ols9JKoDdwLG"
      }
    },
    {
      "cell_type": "markdown",
      "source": [
        "### 그리디 알고리즘의 정당성"
      ],
      "metadata": {
        "id": "NuKB8Z9dexE8"
      }
    },
    {
      "cell_type": "markdown",
      "source": [
        "대부분의 문제는 그리디 알고리즘을 이용했을 때 '최적의 해'를 찾을 수 없을 가능성이 다분함\n",
        "\n",
        "대부분의 그리디 알고리즘 문제에서는 문제 풀이를 위한 최소한의 아이디어를 떠올리고 이것이 정당한지 검토할 수 있어야 답을 도출할 수 있음"
      ],
      "metadata": {
        "id": "dCkSu1tIezck"
      }
    },
    {
      "cell_type": "markdown",
      "source": [
        "# 2. [실전 문제] 큰 수의 법칙"
      ],
      "metadata": {
        "id": "Oviad5WQYY27"
      }
    },
    {
      "cell_type": "code",
      "source": [
        "N, M, K = map(int, input().split())\n",
        "nums = list(map(int, input().split()))\n",
        "\n",
        "nums.sort(reverse = True)\n",
        "first = nums[0]\n",
        "second = nums[1]\n",
        "count = 0\n",
        "answer = 0\n",
        "n = M // (K+1)\n",
        "answer += first * K * n\n",
        "answer += second * (M - K*n)\n",
        "\n",
        "print(answer)"
      ],
      "metadata": {
        "id": "Ku9RKbs2YbE4",
        "colab": {
          "base_uri": "https://localhost:8080/"
        },
        "outputId": "167caeb0-5c22-4eb9-8ec6-465aa00bdc8e"
      },
      "execution_count": 9,
      "outputs": [
        {
          "output_type": "stream",
          "name": "stdout",
          "text": [
            "5 8 4\n",
            "2 4 5 4 6\n",
            "44\n"
          ]
        }
      ]
    },
    {
      "cell_type": "markdown",
      "source": [
        "# 3. [실전 문제] 숫자 카드 게임"
      ],
      "metadata": {
        "id": "IbA535LSYbbY"
      }
    },
    {
      "cell_type": "code",
      "source": [],
      "metadata": {
        "id": "Nc1MNceAYd2P"
      },
      "execution_count": null,
      "outputs": []
    },
    {
      "cell_type": "markdown",
      "source": [
        "# 4. [실전 문제] 1이 될 때까지"
      ],
      "metadata": {
        "id": "2fz5fc7CYeZW"
      }
    },
    {
      "cell_type": "code",
      "source": [],
      "metadata": {
        "id": "p_PhFRfRYgMQ"
      },
      "execution_count": null,
      "outputs": []
    }
  ]
}