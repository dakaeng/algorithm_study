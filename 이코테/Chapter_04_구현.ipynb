{
  "nbformat": 4,
  "nbformat_minor": 0,
  "metadata": {
    "colab": {
      "provenance": [],
      "authorship_tag": "ABX9TyOex39LCZGWF58y1uTzfHgw"
    },
    "kernelspec": {
      "name": "python3",
      "display_name": "Python 3"
    },
    "language_info": {
      "name": "python"
    }
  },
  "cells": [
    {
      "cell_type": "markdown",
      "source": [
        "# 1. 아이디어를 코드로 바꾸는 구현"
      ],
      "metadata": {
        "id": "rGCo0Ebo1Ffy"
      }
    },
    {
      "cell_type": "markdown",
      "source": [
        "### 피지컬로 승부하기"
      ],
      "metadata": {
        "id": "X_SoUqYC1IBh"
      }
    },
    {
      "cell_type": "markdown",
      "source": [
        "- 완전 탐색 : 모든 경우의 수를 주저 없이 다 계산하는 해결 방법\n",
        "\n",
        "- 시뮬레이션 : 문제에서 제시한 알고리즘을 한 단계씩 차례대로 직접 수행"
      ],
      "metadata": {
        "id": "e-FrDUdl1H-s"
      }
    },
    {
      "cell_type": "markdown",
      "source": [
        "### 예제 4-1. 상하좌우"
      ],
      "metadata": {
        "id": "S0fuX-be6C9q"
      }
    },
    {
      "cell_type": "code",
      "execution_count": 4,
      "metadata": {
        "colab": {
          "base_uri": "https://localhost:8080/"
        },
        "id": "bv7dVeB51Az-",
        "outputId": "ee758a45-9833-4ab8-ea94-f4508f608a42"
      },
      "outputs": [
        {
          "output_type": "stream",
          "name": "stdout",
          "text": [
            "5\n",
            "R R R U D D\n",
            "3 4\n"
          ]
        }
      ],
      "source": [
        "N = int(input())\n",
        "move = list(input().split())\n",
        "\n",
        "answer = [1, 1]\n",
        "for m in move :\n",
        "  if m == 'L' :\n",
        "    if answer[1] != 1 :\n",
        "      answer[1] -= 1\n",
        "  elif m == 'R' :\n",
        "    if answer[1] != N :\n",
        "      answer[1] += 1\n",
        "  elif m == 'U' :\n",
        "    if answer[0] != 1 :\n",
        "      answer[0] -= 1\n",
        "  else :\n",
        "    if answer[0] != N :\n",
        "      answer[0] += 1\n",
        "print(*answer)"
      ]
    },
    {
      "cell_type": "markdown",
      "source": [
        "### 예제 4-2. 시각"
      ],
      "metadata": {
        "id": "V3k5ahoZ76uE"
      }
    },
    {
      "cell_type": "code",
      "source": [
        "N = int(input())\n",
        "\n",
        "count = 0\n",
        "for h in range(N+1) :\n",
        "  for m in range(60) :\n",
        "    for s in range(60) :\n",
        "      time = str(h) + str(m) + str(s)\n",
        "      if '3' in time :\n",
        "        count += 1\n",
        "print(count)"
      ],
      "metadata": {
        "colab": {
          "base_uri": "https://localhost:8080/"
        },
        "id": "tFH_9oLg78TJ",
        "outputId": "ef02bd0f-6bf5-46e4-a7a5-8c122f9ed9cd"
      },
      "execution_count": 5,
      "outputs": [
        {
          "output_type": "stream",
          "name": "stdout",
          "text": [
            "5\n",
            "11475\n"
          ]
        }
      ]
    },
    {
      "cell_type": "markdown",
      "source": [
        "# 2. [실전 문제] 왕실의 나이트"
      ],
      "metadata": {
        "id": "Qjnixc-y8ro_"
      }
    },
    {
      "cell_type": "code",
      "source": [
        "loc = input()\n",
        "X = {'a':1, 'b':2, 'c':3, 'd':4, 'e':5, 'f':6, 'g':7, 'h':8}\n",
        "xy = [X[loc[0]], int(loc[1])]\n",
        "count = 8\n",
        "if xy[0] > 6 or xy[0] < 3 :\n",
        "  count -= 2\n",
        "if xy[1] > 6 or xy[1] < 3 :\n",
        "  count -= 2\n",
        "if xy[0] == 1 or xy[0] == 8 :\n",
        "  count -= 1\n",
        "if xy[1] == 1 or xy[1] == 8 :\n",
        "  count -= 1\n",
        "print(count)"
      ],
      "metadata": {
        "colab": {
          "base_uri": "https://localhost:8080/"
        },
        "id": "7IuMqK3O8zLM",
        "outputId": "be5c4626-79ee-492b-df36-413d4053637d"
      },
      "execution_count": 17,
      "outputs": [
        {
          "output_type": "stream",
          "name": "stdout",
          "text": [
            "c2\n",
            "6\n"
          ]
        }
      ]
    },
    {
      "cell_type": "markdown",
      "source": [
        "# 3. [실전 문제] 게임 개발"
      ],
      "metadata": {
        "id": "iesEuMCP_9C7"
      }
    },
    {
      "cell_type": "code",
      "source": [],
      "metadata": {
        "id": "JY9gNqiYAdwY"
      },
      "execution_count": null,
      "outputs": []
    }
  ]
}
