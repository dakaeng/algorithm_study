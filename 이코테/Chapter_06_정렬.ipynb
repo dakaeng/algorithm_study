{
  "nbformat": 4,
  "nbformat_minor": 0,
  "metadata": {
    "colab": {
      "provenance": [],
      "authorship_tag": "ABX9TyMrFm9FCgpwa+2MY4hSR2sT"
    },
    "kernelspec": {
      "name": "python3",
      "display_name": "Python 3"
    },
    "language_info": {
      "name": "python"
    }
  },
  "cells": [
    {
      "cell_type": "markdown",
      "source": [
        "# 1. 기준에 따라 데이터를 정렬"
      ],
      "metadata": {
        "id": "LGRazpQmqZrq"
      }
    },
    {
      "cell_type": "markdown",
      "source": [
        "### 선택 정렬\n",
        "\n",
        "평균 시간 복잡도 : $O(N^{2})$"
      ],
      "metadata": {
        "id": "KIGIYdHo3T1S"
      }
    },
    {
      "cell_type": "markdown",
      "source": [
        "데이터가 무작위로 여러 개 있을 때, 이 중에서 가장 작은 데이터를 선택해 맨 앞에 있는 데이터와 바꾸고, 그다음 작은 데이터를 선택해 앞에서 두 번째 데이터와 바꾸는 과정을 반복하는 것"
      ],
      "metadata": {
        "id": "gWcscFN03XEn"
      }
    },
    {
      "cell_type": "code",
      "source": [
        "array = [7, 5, 9, 0, 3, 1, 6, 2, 4, 8]\n",
        "\n",
        "for i in range(len(array)) :\n",
        "  min_idx = i  # min_idx : 최솟값의 인덱스\n",
        "  for j in range(i+1, len(array)) :  # 최솟값의 인덱스를 찾는 과정\n",
        "    if array[min_idx] > array[j] :\n",
        "      min_idx = j\n",
        "  temp = array[i]  # 현재 값(i번째 값)과 최솟값의 위치 바꾸기\n",
        "  array[i] = array[min_idx]\n",
        "  array[min_idx] = temp\n",
        "  # array[i], array[min_idx] = array[min_idx], array[i]\n",
        "print(array)"
      ],
      "metadata": {
        "colab": {
          "base_uri": "https://localhost:8080/"
        },
        "id": "XTb8a0gq4b-k",
        "outputId": "5cdb4e18-de84-42ba-e512-d5e75e8ca243"
      },
      "execution_count": 1,
      "outputs": [
        {
          "output_type": "stream",
          "name": "stdout",
          "text": [
            "[0, 1, 2, 3, 4, 5, 6, 7, 8, 9]\n"
          ]
        }
      ]
    },
    {
      "cell_type": "markdown",
      "source": [
        "### 삽입 정렬\n",
        "\n",
        "평균 시간 복잡도 : $O(N^{2})$\n",
        "\n",
        "데이터가 거의 정렬되어 있는 상태에서 입력이 주어지는 문제라면 효율적!"
      ],
      "metadata": {
        "id": "drF2eFag3XCH"
      }
    },
    {
      "cell_type": "markdown",
      "source": [
        "데이터를 하나씩 확인하며, 각 데이터를 적절한 위치에 삽입하는 것"
      ],
      "metadata": {
        "id": "RaPxSN8P3W_2"
      }
    },
    {
      "cell_type": "code",
      "source": [
        "array = [7, 5, 9, 0, 3, 1, 6, 2, 4, 8]\n",
        "\n",
        "for i in range(len(array)) :\n",
        "  for j in range(i, 0, -1) :\n",
        "    if array[j] < array[j-1] :\n",
        "      array[j], array[j-1] = array[j-1], array[j]\n",
        "    else :\n",
        "      break\n",
        "print(array)"
      ],
      "metadata": {
        "colab": {
          "base_uri": "https://localhost:8080/"
        },
        "id": "J2iBWOFi69-o",
        "outputId": "233c6757-f97c-4fe6-8e30-4057220f0608"
      },
      "execution_count": 2,
      "outputs": [
        {
          "output_type": "stream",
          "name": "stdout",
          "text": [
            "[0, 1, 2, 3, 4, 5, 6, 7, 8, 9]\n"
          ]
        }
      ]
    },
    {
      "cell_type": "markdown",
      "source": [
        "### 퀵 정렬\n",
        "\n",
        "평균 시간 복잡도 : $O(Nlog{N})$\n",
        "\n",
        "데이터 개수가 많을수록 선택 정렬, 삽입 정렬에 비해 빠르게 동작\n",
        "\n",
        "데이터의 특성을 파악하기 어려운 경우에는 퀵 정렬 사용이 유리"
      ],
      "metadata": {
        "id": "dOZD01Ts3W9l"
      }
    },
    {
      "cell_type": "markdown",
      "source": [
        "기준을 설정한 다음, 기준값보다 큰 수와 작은 수를 교환한 후 리스트를 반으로 나누는 방식으로 동작"
      ],
      "metadata": {
        "id": "Odkls2fi3W6_"
      }
    },
    {
      "cell_type": "code",
      "source": [
        "array = [7, 5, 9, 0, 3, 1, 6, 2, 4, 8]\n",
        "\n",
        "def quick_sort(array) :\n",
        "  if len(array) <= 1 :\n",
        "    return array\n",
        "\n",
        "  pivot = array[0]\n",
        "  tail = array[1:]\n",
        "\n",
        "  left_side = [x for x in tail if x <= pivot]\n",
        "  right_side = [x for x in tail if x > pivot]\n",
        "\n",
        "  return quick_sort(left_side) + [pivot] + quick_sort(right_side)\n",
        "\n",
        "print(quick_sort(array))"
      ],
      "metadata": {
        "colab": {
          "base_uri": "https://localhost:8080/"
        },
        "id": "ejtfJzse3WaO",
        "outputId": "a5c580df-6aad-4a31-8683-670f55d7fb7c"
      },
      "execution_count": 3,
      "outputs": [
        {
          "output_type": "stream",
          "name": "stdout",
          "text": [
            "[0, 1, 2, 3, 4, 5, 6, 7, 8, 9]\n"
          ]
        }
      ]
    },
    {
      "cell_type": "markdown",
      "source": [
        "### 계수 정렬\n",
        "\n",
        "평균 시간 복잡도 : $O(N+K)$"
      ],
      "metadata": {
        "id": "bnyee9bDnFfk"
      }
    },
    {
      "cell_type": "markdown",
      "source": [
        "특정한 조건이 부합할 때만 사용할 수 있지만 매우 빠른 정렬 알고리즘(데이터 크기가 제한되어 있을 때)  \n",
        "별도의 리스트를 선언하고, 그 안에 정렬에 대한 정보를 담는다"
      ],
      "metadata": {
        "id": "PG8xiZT3nIZF"
      }
    },
    {
      "cell_type": "code",
      "source": [
        "array = [7, 5, 9, 0, 3, 1, 6, 2, 9, 1, 4, 8, 0, 5, 2]\n",
        "\n",
        "count = [0] * (max(array) + 1)\n",
        "for i in range(len(array)) :\n",
        "  count[array[i]] += 1\n",
        "\n",
        "for i in range(len(count)) :\n",
        "  for j in range(count[i]) :\n",
        "    print(i, end = ' ')"
      ],
      "metadata": {
        "colab": {
          "base_uri": "https://localhost:8080/"
        },
        "id": "zgD1BAxamfrC",
        "outputId": "f057704f-86b2-4297-c0b2-26dbd796a533"
      },
      "execution_count": 4,
      "outputs": [
        {
          "output_type": "stream",
          "name": "stdout",
          "text": [
            "0 0 1 1 2 2 3 4 5 5 6 7 8 9 9 "
          ]
        }
      ]
    },
    {
      "cell_type": "markdown",
      "source": [
        "### 파이썬 라이브러리"
      ],
      "metadata": {
        "id": "aJjt1qLIpQpP"
      }
    },
    {
      "cell_type": "markdown",
      "source": [
        "#### sorted()\n",
        "\n",
        "병합 정렬 기반. 최악의 경우에도 시간 복잡도 $O(NlogN)$을 보장함"
      ],
      "metadata": {
        "id": "wENpwNXZpTG4"
      }
    },
    {
      "cell_type": "code",
      "source": [
        "array = [7, 5, 9, 0, 3, 1, 6, 2, 4, 8]\n",
        "result = sorted(array)\n",
        "print(result)"
      ],
      "metadata": {
        "colab": {
          "base_uri": "https://localhost:8080/"
        },
        "id": "AbruYfs5pSu_",
        "outputId": "3648aa0d-a3ce-4966-83f1-2e353253a94e"
      },
      "execution_count": 5,
      "outputs": [
        {
          "output_type": "stream",
          "name": "stdout",
          "text": [
            "[0, 1, 2, 3, 4, 5, 6, 7, 8, 9]\n"
          ]
        }
      ]
    },
    {
      "cell_type": "code",
      "source": [
        "array = [7, 5, 9, 0, 3, 1, 6, 2, 4, 8]\n",
        "array.sort()\n",
        "print(array)"
      ],
      "metadata": {
        "colab": {
          "base_uri": "https://localhost:8080/"
        },
        "id": "upxo9TsrpgV1",
        "outputId": "6b4e3d0f-d929-48e7-b795-91b060aac85c"
      },
      "execution_count": 6,
      "outputs": [
        {
          "output_type": "stream",
          "name": "stdout",
          "text": [
            "[0, 1, 2, 3, 4, 5, 6, 7, 8, 9]\n"
          ]
        }
      ]
    },
    {
      "cell_type": "markdown",
      "source": [
        "### 문제 풀이 팁!!\n",
        "\n",
        "문제에서 별도의 요구가 없을 경우, 단순히 정렬해야 하는 상황이면 **기본 정렬 라이브러리** 사용!!  \n",
        "데이터의 **범위가 한정**되어 있으며, 더 **빠르게** 동작해야 할 때는 계수 정렬 사용"
      ],
      "metadata": {
        "id": "N1-Qt-TcqESu"
      }
    },
    {
      "cell_type": "markdown",
      "source": [
        "# 2. [실전 문제] 위에서 아래로"
      ],
      "metadata": {
        "id": "NQ3NQPU_qfw2"
      }
    },
    {
      "cell_type": "code",
      "source": [
        "N = int(input())\n",
        "nums = []\n",
        "for _ in range(N) :\n",
        "  nums.append(int(input()))\n",
        "result = sorted(nums, reverse = True)\n",
        "for i in result :\n",
        "  print(i, end = ' ')"
      ],
      "metadata": {
        "colab": {
          "base_uri": "https://localhost:8080/"
        },
        "id": "mTPUYkp6qNYn",
        "outputId": "a57dabe5-cc36-49fa-96f2-190f13322fc3"
      },
      "execution_count": 7,
      "outputs": [
        {
          "output_type": "stream",
          "name": "stdout",
          "text": [
            "3\n",
            "15\n",
            "27\n",
            "12\n",
            "27 15 12 "
          ]
        }
      ]
    },
    {
      "cell_type": "markdown",
      "source": [
        "# 3. [실전 문제] 성적이 낮은 순서로 학생 출력하기"
      ],
      "metadata": {
        "id": "uJKATv_9qidW"
      }
    },
    {
      "cell_type": "code",
      "source": [
        "N = int(input())\n",
        "student = []\n",
        "for _ in range(N) :\n",
        "  A, B = input().split()\n",
        "  student.append((A, int(B)))\n",
        "result = sorted(student, key = lambda x: x[1])\n",
        "for i in result :\n",
        "  print(i[0], end = ' ')"
      ],
      "metadata": {
        "colab": {
          "base_uri": "https://localhost:8080/"
        },
        "id": "ay0Xzzd-qlOU",
        "outputId": "d13c1319-54a1-455e-b2db-8543ccbfe845"
      },
      "execution_count": 8,
      "outputs": [
        {
          "output_type": "stream",
          "name": "stdout",
          "text": [
            "2\n",
            "홍길동 95\n",
            "이순신 77\n",
            "이순신 홍길동 "
          ]
        }
      ]
    },
    {
      "cell_type": "markdown",
      "source": [
        "# 4. [실전 문제] 두 배열의 원소 교체"
      ],
      "metadata": {
        "id": "Y7f8V5fcqljr"
      }
    },
    {
      "cell_type": "code",
      "source": [
        "N, K = map(int, input().split())\n",
        "A = list(map(int, input().split()))\n",
        "B = list(map(int, input().split()))\n",
        "\n",
        "A.sort()\n",
        "B.sort(reverse = True)\n",
        "for i in range(K) :\n",
        "  if A[i] < B[i] :\n",
        "    A[i], B[i] = B[i], A[i]\n",
        "  else :\n",
        "    break\n",
        "print(sum(A))"
      ],
      "metadata": {
        "colab": {
          "base_uri": "https://localhost:8080/"
        },
        "id": "vJNJjDMdqnYw",
        "outputId": "a4b0736f-7be2-4fe3-d11b-da2b588b48d5"
      },
      "execution_count": 9,
      "outputs": [
        {
          "output_type": "stream",
          "name": "stdout",
          "text": [
            "5 3\n",
            "1 2 5 4 3\n",
            "5 5 6 6 5\n",
            "26\n"
          ]
        }
      ]
    }
  ]
}
