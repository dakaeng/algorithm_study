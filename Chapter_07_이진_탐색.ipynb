{
  "nbformat": 4,
  "nbformat_minor": 0,
  "metadata": {
    "colab": {
      "provenance": [],
      "authorship_tag": "ABX9TyPC75O/0txCBdQfLjSDeokM"
    },
    "kernelspec": {
      "name": "python3",
      "display_name": "Python 3"
    },
    "language_info": {
      "name": "python"
    }
  },
  "cells": [
    {
      "cell_type": "markdown",
      "source": [
        "# 1. 범위를 반씩 좁혀가는 탐색\n"
      ],
      "metadata": {
        "id": "K4wlqjzg-gaA"
      }
    },
    {
      "cell_type": "markdown",
      "source": [
        "### 순차 탐색\n",
        "\n",
        "최악의 시간 복잡도 : $O(N)$"
      ],
      "metadata": {
        "id": "guzwbJEm-6R8"
      }
    },
    {
      "cell_type": "markdown",
      "source": [
        "리스트 안에 있는 특정한 데이터를 찾기 위해 앞에서부터 데이터를 하나씩 차례대로 확인하는 방법\n",
        "\n",
        "정렬되지 않은 리스트에서 데이터를 찾아야 할 때 사용"
      ],
      "metadata": {
        "id": "WEzqdEe8P2NA"
      }
    },
    {
      "cell_type": "markdown",
      "source": [
        "### 이진 탐색 : 반으로 쪼개면서 탐색하기\n",
        "\n",
        "시간 복잡도 : $O(logN)$"
      ],
      "metadata": {
        "id": "LfbfDFvt-_15"
      }
    },
    {
      "cell_type": "markdown",
      "source": [
        "배열 내부의 데이터가 정렬되어 있어야만 사용할 수 있는 알고리즘\n",
        "\n",
        "찾으려는 데이터와 중간점 위치에 있는 데이터를 반복적으로 비교해서 원하는 데이터를 찾는 것"
      ],
      "metadata": {
        "id": "POxbn8niT3dz"
      }
    },
    {
      "cell_type": "code",
      "source": [
        "array = [1, 3, 5, 7, 9, 11, 13, 15, 17, 19]\n",
        "target = 17\n",
        "\n",
        "start = 0\n",
        "end = len(array) - 1\n",
        "while (start <= end) :\n",
        "  mid = (start + end) // 2\n",
        "  if array[mid] < target :\n",
        "    start = mid\n",
        "  elif array[mid] > target :\n",
        "    end = mid\n",
        "  else :\n",
        "    print('target의 index :', mid)\n",
        "    break"
      ],
      "metadata": {
        "colab": {
          "base_uri": "https://localhost:8080/"
        },
        "id": "xh7jtWdg_CdU",
        "outputId": "729740e4-87a0-4b49-a041-4f0bcc9f5dde"
      },
      "execution_count": 9,
      "outputs": [
        {
          "output_type": "stream",
          "name": "stdout",
          "text": [
            "target의 index : 8\n"
          ]
        }
      ]
    },
    {
      "cell_type": "markdown",
      "source": [
        "### 이진 탐색 트리"
      ],
      "metadata": {
        "id": "2DMWftd1VxEE"
      }
    },
    {
      "cell_type": "markdown",
      "source": [
        "- 부모 노드보다 왼쪽 자식 노드가 작다.  \n",
        "- 부모 노드보다 오른쪽 자식 노드가 크다.\n",
        "\n",
        "왼쪽 자식 노드 < 부모 노드 < 오른쪽 자식 노드"
      ],
      "metadata": {
        "id": "XzhOXNwFVybw"
      }
    },
    {
      "cell_type": "markdown",
      "source": [
        "# 2. [실전 문제] 부품 찾기"
      ],
      "metadata": {
        "id": "aLDmpzkuXvQN"
      }
    },
    {
      "cell_type": "code",
      "source": [
        "N = int(input())\n",
        "nums = list(map(int, input().split()))\n",
        "M = int(input())\n",
        "check = list(map(int, input().split()))\n",
        "nums.sort()\n",
        "\n",
        "for c in check :\n",
        "  start = 0\n",
        "  end = N - 1\n",
        "  result = 'no'\n",
        "  while (start <= end) :\n",
        "    mid = (start + end) // 2\n",
        "    if nums[mid] < c :\n",
        "      start = mid + 1  # start = mid 로 하면 루프가 안 끝남\n",
        "    elif nums[mid] > c :\n",
        "      end = mid - 1  # 얘도 마찬가지\n",
        "    else :\n",
        "      result = 'yes'\n",
        "      break\n",
        "  print(result, end = ' ')"
      ],
      "metadata": {
        "colab": {
          "base_uri": "https://localhost:8080/"
        },
        "id": "J6JuF-QMVyEs",
        "outputId": "d4eca53e-fb1d-438b-8981-6f1513a7797a"
      },
      "execution_count": 15,
      "outputs": [
        {
          "output_type": "stream",
          "name": "stdout",
          "text": [
            "5\n",
            "8 3 7 9 2\n",
            "3\n",
            "5 7 9\n",
            "no yes yes "
          ]
        }
      ]
    },
    {
      "cell_type": "markdown",
      "source": [
        "# 3. [실전 문제] 떡볶이 떡 만들기"
      ],
      "metadata": {
        "id": "XaoMbdxQbqHI"
      }
    },
    {
      "cell_type": "code",
      "source": [
        "N, M = map(int, input().split())\n",
        "tteok = list(map(int, input().split()))\n",
        "\n",
        "start = 0\n",
        "end = max(tteok)  # start, end를 index가 아니라 떡의 길이로 보기\n",
        "result = 0\n",
        "while (start <= end) :\n",
        "  mid = (start + end) // 2  # 절단기 높이를 mid로 보기\n",
        "  total = 0\n",
        "  for i in tteok :\n",
        "    if i > mid :\n",
        "      total += (i - mid)\n",
        "  if total < M :\n",
        "    end = mid - 1\n",
        "  else :\n",
        "    result = mid\n",
        "    start = mid + 1\n",
        "print(result)"
      ],
      "metadata": {
        "colab": {
          "base_uri": "https://localhost:8080/"
        },
        "id": "GhOgqC6lbsNA",
        "outputId": "ecc27df0-e508-47f6-a0b9-ba44ae371a85"
      },
      "execution_count": 23,
      "outputs": [
        {
          "output_type": "stream",
          "name": "stdout",
          "text": [
            "4 6\n",
            "19 15 10 17\n",
            "15\n"
          ]
        }
      ]
    },
    {
      "cell_type": "markdown",
      "source": [
        "범위 내에서 조건을 만족하는 가장 큰 값을 찾으라는 최적화 문제라면 이진 탐색으로 해결 가능"
      ],
      "metadata": {
        "id": "JWb40GZUgQlG"
      }
    }
  ]
}